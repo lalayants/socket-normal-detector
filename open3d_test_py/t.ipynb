{
 "cells": [
  {
   "cell_type": "code",
   "execution_count": 2,
   "metadata": {},
   "outputs": [
    {
     "name": "stdout",
     "output_type": "stream",
     "text": [
      "[Open3D INFO] Capture started with RealSense camera 948522071020\n",
      "[Open3D INFO] Window window_0 created.\n",
      "[Open3D INFO] EGL headless mode enabled.\n",
      "[Open3D INFO] ICE servers: [\"stun:stun.l.google.com:19302\", \"turn:user:password@34.69.27.100:3478\", \"turn:user:password@34.69.27.100:3478?transport=tcp\"]\n",
      "[Open3D INFO] Set WEBRTC_STUN_SERVER environment variable add a customized WebRTC STUN server.\n",
      "[Open3D INFO] WebRTC Jupyter handshake mode enabled.\n",
      "WARNING: Using soft CircularBuffer (6144 KiB)\n",
      "FEngine (64 bits) created at 0x7fb5fe692010 (threading is enabled)\n",
      "EGL(1.5)\n",
      "OpenGL(4.6)\n"
     ]
    },
    {
     "ename": "TypeError",
     "evalue": "add_geometry(): incompatible function arguments. The following argument types are supported:\n    1. (self: open3d.cpu.pybind.visualization.O3DVisualizer, name: str, geometry: open3d.cpu.pybind.geometry.Geometry3D, material: open3d.cpu.pybind.visualization.rendering.MaterialRecord = None, group: str = '', time: float = 0.0, is_visible: bool = True) -> None\n    2. (self: open3d.cpu.pybind.visualization.O3DVisualizer, name: str, geometry: open3d.cpu.pybind.t.geometry.Geometry, material: open3d.cpu.pybind.visualization.rendering.MaterialRecord = None, group: str = '', time: float = 0.0, is_visible: bool = True) -> None\n    3. (self: open3d.cpu.pybind.visualization.O3DVisualizer, name: str, model: open3d.cpu.pybind.visualization.rendering.TriangleMeshModel, material: open3d.cpu.pybind.visualization.rendering.MaterialRecord = None, group: str = '', time: float = 0.0, is_visible: bool = True) -> None\n    4. (self: object, arg0: dict) -> None\n\nInvoked with: <open3d.cpu.pybind.visualization.O3DVisualizer object at 0x7fb61e9944b0>, 'convex hull', (TriangleMesh with 131 points and 258 triangles., [246461, 278653, 258997, 23978, 16349, 127104, 167631, 31247, 27182, 1482, 245836, 125864, 230, 696, 22289, 271783, 166327, 717, 84671, 740, 706, 287100, 1484, 287373, 283930, 283928, 281406, 3, 51701, 66682, 35220, 278604, 275123, 279584, 280841, 282330, 287371, 32843, 30486, 58885, 23133, 266185, 272043, 213984, 243124, 246464, 283672, 34, 13812, 164998, 286070, 98189, 13809, 17113, 274506, 287293, 152659, 287351, 287182, 150283, 14601, 10588, 278656, 283676, 283924, 281370, 15464, 165650, 274814, 285304, 275907, 276381, 280670, 281183, 277061, 62059, 31252, 165682, 165677, 37600, 15457, 32854, 287354, 287352, 282012, 277509, 277334, 0, 13, 20, 28867, 17959, 273489, 275382, 287226, 287327, 286797, 286639, 280135, 276378, 35237, 287348, 287285, 287174, 287096, 42, 275897, 287324, 287323, 287369, 287361, 287358, 286204, 277066, 33653, 35229, 190176, 286638, 165653, 188065, 187379, 188071, 211810, 187382, 287353, 287355, 287356, 286334, 37594, 36810, 190179]), None, '', 0.0, True",
     "output_type": "error",
     "traceback": [
      "\u001b[0;31m---------------------------------------------------------------------------\u001b[0m",
      "\u001b[0;31mTypeError\u001b[0m                                 Traceback (most recent call last)",
      "Cell \u001b[0;32mIn[2], line 29\u001b[0m\n\u001b[1;32m     26\u001b[0m \u001b[39m# pcd = o3d.geometry.PointCloud.create_from_depth_image(im_rgbd.depth, rs.get_metadata().intrinsics, extrinsic=extr, depth_scale=rs.get_metadata().depth_scale)\u001b[39;00m\n\u001b[1;32m     27\u001b[0m \u001b[39m# break\u001b[39;00m\n\u001b[1;32m     28\u001b[0m hull \u001b[39m=\u001b[39m pcd\u001b[39m.\u001b[39mcompute_convex_hull()\n\u001b[0;32m---> 29\u001b[0m o3d\u001b[39m.\u001b[39;49mvisualization\u001b[39m.\u001b[39;49mdraw([{\u001b[39m'\u001b[39;49m\u001b[39mname\u001b[39;49m\u001b[39m'\u001b[39;49m: \u001b[39m'\u001b[39;49m\u001b[39meagle\u001b[39;49m\u001b[39m'\u001b[39;49m, \u001b[39m'\u001b[39;49m\u001b[39mgeometry\u001b[39;49m\u001b[39m'\u001b[39;49m: pcd}, {\u001b[39m'\u001b[39;49m\u001b[39mname\u001b[39;49m\u001b[39m'\u001b[39;49m: \u001b[39m'\u001b[39;49m\u001b[39mconvex hull\u001b[39;49m\u001b[39m'\u001b[39;49m, \u001b[39m'\u001b[39;49m\u001b[39mgeometry\u001b[39;49m\u001b[39m'\u001b[39;49m: hull}])\n\u001b[1;32m     30\u001b[0m cv2\u001b[39m.\u001b[39mimwrite(\u001b[39m'\u001b[39m\u001b[39m1.jpg\u001b[39m\u001b[39m'\u001b[39m, np\u001b[39m.\u001b[39marray(im_rgbd\u001b[39m.\u001b[39mdepth))\n\u001b[1;32m     31\u001b[0m \u001b[39mbreak\u001b[39;00m\n",
      "File \u001b[0;32m~/.pyenv/versions/3.10.11/envs/raskat/lib/python3.10/site-packages/open3d/visualization/draw.py:62\u001b[0m, in \u001b[0;36mdraw\u001b[0;34m(geometry, title, width, height, actions, lookat, eye, up, field_of_view, intrinsic_matrix, extrinsic_matrix, bg_color, bg_image, ibl, ibl_intensity, show_skybox, show_ui, raw_mode, point_size, line_width, animation_time_step, animation_duration, rpc_interface, on_init, on_animation_frame, on_animation_tick, non_blocking_and_return_uid)\u001b[0m\n\u001b[1;32m     60\u001b[0m \u001b[39mif\u001b[39;00m \u001b[39misinstance\u001b[39m(geometry, \u001b[39mlist\u001b[39m):\n\u001b[1;32m     61\u001b[0m     \u001b[39mfor\u001b[39;00m g \u001b[39min\u001b[39;00m geometry:\n\u001b[0;32m---> 62\u001b[0m         add(g, n)\n\u001b[1;32m     63\u001b[0m         n \u001b[39m+\u001b[39m\u001b[39m=\u001b[39m \u001b[39m1\u001b[39m\n\u001b[1;32m     64\u001b[0m \u001b[39melif\u001b[39;00m geometry \u001b[39mis\u001b[39;00m \u001b[39mnot\u001b[39;00m \u001b[39mNone\u001b[39;00m:\n",
      "File \u001b[0;32m~/.pyenv/versions/3.10.11/envs/raskat/lib/python3.10/site-packages/open3d/visualization/draw.py:55\u001b[0m, in \u001b[0;36mdraw.<locals>.add\u001b[0;34m(g, n)\u001b[0m\n\u001b[1;32m     53\u001b[0m \u001b[39mdef\u001b[39;00m \u001b[39madd\u001b[39m(g, n):\n\u001b[1;32m     54\u001b[0m     \u001b[39mif\u001b[39;00m \u001b[39misinstance\u001b[39m(g, \u001b[39mdict\u001b[39m):\n\u001b[0;32m---> 55\u001b[0m         w\u001b[39m.\u001b[39;49madd_geometry(g)\n\u001b[1;32m     56\u001b[0m     \u001b[39melse\u001b[39;00m:\n\u001b[1;32m     57\u001b[0m         w\u001b[39m.\u001b[39madd_geometry(\u001b[39m\"\u001b[39m\u001b[39mObject \u001b[39m\u001b[39m\"\u001b[39m \u001b[39m+\u001b[39m \u001b[39mstr\u001b[39m(n), g)\n",
      "\u001b[0;31mTypeError\u001b[0m: add_geometry(): incompatible function arguments. The following argument types are supported:\n    1. (self: open3d.cpu.pybind.visualization.O3DVisualizer, name: str, geometry: open3d.cpu.pybind.geometry.Geometry3D, material: open3d.cpu.pybind.visualization.rendering.MaterialRecord = None, group: str = '', time: float = 0.0, is_visible: bool = True) -> None\n    2. (self: open3d.cpu.pybind.visualization.O3DVisualizer, name: str, geometry: open3d.cpu.pybind.t.geometry.Geometry, material: open3d.cpu.pybind.visualization.rendering.MaterialRecord = None, group: str = '', time: float = 0.0, is_visible: bool = True) -> None\n    3. (self: open3d.cpu.pybind.visualization.O3DVisualizer, name: str, model: open3d.cpu.pybind.visualization.rendering.TriangleMeshModel, material: open3d.cpu.pybind.visualization.rendering.MaterialRecord = None, group: str = '', time: float = 0.0, is_visible: bool = True) -> None\n    4. (self: object, arg0: dict) -> None\n\nInvoked with: <open3d.cpu.pybind.visualization.O3DVisualizer object at 0x7fb61e9944b0>, 'convex hull', (TriangleMesh with 131 points and 258 triangles., [246461, 278653, 258997, 23978, 16349, 127104, 167631, 31247, 27182, 1482, 245836, 125864, 230, 696, 22289, 271783, 166327, 717, 84671, 740, 706, 287100, 1484, 287373, 283930, 283928, 281406, 3, 51701, 66682, 35220, 278604, 275123, 279584, 280841, 282330, 287371, 32843, 30486, 58885, 23133, 266185, 272043, 213984, 243124, 246464, 283672, 34, 13812, 164998, 286070, 98189, 13809, 17113, 274506, 287293, 152659, 287351, 287182, 150283, 14601, 10588, 278656, 283676, 283924, 281370, 15464, 165650, 274814, 285304, 275907, 276381, 280670, 281183, 277061, 62059, 31252, 165682, 165677, 37600, 15457, 32854, 287354, 287352, 282012, 277509, 277334, 0, 13, 20, 28867, 17959, 273489, 275382, 287226, 287327, 286797, 286639, 280135, 276378, 35237, 287348, 287285, 287174, 287096, 42, 275897, 287324, 287323, 287369, 287361, 287358, 286204, 277066, 33653, 35229, 190176, 286638, 165653, 188065, 187379, 188071, 211810, 187382, 287353, 287355, 287356, 286334, 37594, 36810, 190179]), None, '', 0.0, True"
     ]
    }
   ],
   "source": [
    "import json\n",
    "import open3d as o3d\n",
    "import cv2\n",
    "import numpy as np\n",
    "\n",
    "config_filename = 'cfg.json'\n",
    "with open(config_filename) as cf:\n",
    "    rs_cfg = o3d.t.io.RealSenseSensorConfig(json.load(cf))\n",
    "extr = np.array([\n",
    "    [1., 0., 0., 0.],\n",
    "    [0., 1., 0., 0.],\n",
    "    [0., 0., 1., 0.],\n",
    "    [0., 0., 0., 1.]])\n",
    "rs = o3d.t.io.RealSenseSensor()\n",
    "rs.init_sensor(rs_cfg, 0)\n",
    "rs.start_capture(True)  # true: start recording with capture\n",
    "\n",
    "meta = rs.get_metadata()\n",
    "intrinsics = o3d.camera.PinholeCameraIntrinsic(meta.width, meta.height, *meta.intrinsics.get_focal_length(), *meta.intrinsics.get_principal_point())\n",
    "while True:\n",
    "    im_rgbd = rs.capture_frame(True, True) # wait for frames and align them\n",
    "    # print(rs.get_metadata().intrinsics.intrinsic_matrix, rs.get_metadata().depth_scale)\n",
    "\n",
    "    # cv2.imwrite('1.jpg', np.array(im_rgbd.depth))\n",
    "    pcd = o3d.geometry.PointCloud.create_from_depth_image(im_rgbd.depth.to_legacy(), rs.get_metadata().intrinsics)\n",
    "    # pcd = o3d.geometry.PointCloud.create_from_depth_image(im_rgbd.depth, rs.get_metadata().intrinsics, extrinsic=extr, depth_scale=rs.get_metadata().depth_scale)\n",
    "    # break\n",
    "    hull = pcd.compute_convex_hull()\n",
    "    o3d.visualization.draw([{'name': 'eagle', 'geometry': pcd}, {'name': 'convex hull', 'geometry': hull}])\n",
    "    cv2.imwrite('1.jpg', np.array(im_rgbd.depth))\n",
    "    break\n",
    "\n",
    "rs.stop_capture()"
   ]
  },
  {
   "cell_type": "code",
   "execution_count": null,
   "metadata": {},
   "outputs": [],
   "source": []
  }
 ],
 "metadata": {
  "kernelspec": {
   "display_name": "raskat",
   "language": "python",
   "name": "python3"
  },
  "language_info": {
   "codemirror_mode": {
    "name": "ipython",
    "version": 3
   },
   "file_extension": ".py",
   "mimetype": "text/x-python",
   "name": "python",
   "nbconvert_exporter": "python",
   "pygments_lexer": "ipython3",
   "version": "3.10.11"
  },
  "orig_nbformat": 4
 },
 "nbformat": 4,
 "nbformat_minor": 2
}
